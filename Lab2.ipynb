{
 "cells": [
  {
   "cell_type": "code",
   "execution_count": null,
   "id": "38c7430a",
   "metadata": {},
   "outputs": [],
   "source": [
    "import numpy as np\n",
    "import matplotlib.pyplot as plt\n",
    "import scipy.signal\n",
    "import allantools\n",
    "\n",
    "from readimu import readimu"
   ]
  },
  {
   "cell_type": "code",
   "execution_count": null,
   "id": "e7df0670",
   "metadata": {
    "scrolled": true
   },
   "outputs": [],
   "source": [
    "data = readimu(\"20230310_2.imu\")"
   ]
  },
  {
   "cell_type": "code",
   "execution_count": null,
   "id": "e90730e0",
   "metadata": {},
   "outputs": [],
   "source": [
    "data.shape\n",
    "data[:,1]"
   ]
  },
  {
   "cell_type": "code",
   "execution_count": null,
   "id": "0f46a0c5",
   "metadata": {},
   "outputs": [],
   "source": [
    "plt.plot(data[10000:10100,1])"
   ]
  }
 ],
 "metadata": {
  "kernelspec": {
   "display_name": "Python 3 (ipykernel)",
   "language": "python",
   "name": "python3"
  },
  "language_info": {
   "codemirror_mode": {
    "name": "ipython",
    "version": 3
   },
   "file_extension": ".py",
   "mimetype": "text/x-python",
   "name": "python",
   "nbconvert_exporter": "python",
   "pygments_lexer": "ipython3",
   "version": "3.9.12"
  }
 },
 "nbformat": 4,
 "nbformat_minor": 5
}
